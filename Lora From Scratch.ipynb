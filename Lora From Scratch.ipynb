{
  "nbformat": 4,
  "nbformat_minor": 0,
  "metadata": {
    "colab": {
      "provenance": [],
      "authorship_tag": "ABX9TyM1zhb4JrqZn518An7hDPuq",
      "include_colab_link": true
    },
    "kernelspec": {
      "name": "python3",
      "display_name": "Python 3"
    },
    "language_info": {
      "name": "python"
    }
  },
  "cells": [
    {
      "cell_type": "markdown",
      "metadata": {
        "id": "view-in-github",
        "colab_type": "text"
      },
      "source": [
        "<a href=\"https://colab.research.google.com/github/tejeshbhalla/Machine-Learning-From-Scratch/blob/master/Lora%20From%20Scratch.ipynb\" target=\"_parent\"><img src=\"https://colab.research.google.com/assets/colab-badge.svg\" alt=\"Open In Colab\"/></a>"
      ]
    },
    {
      "cell_type": "code",
      "execution_count": 368,
      "metadata": {
        "id": "Xs5E-M3lCYLE"
      },
      "outputs": [],
      "source": [
        "import torch\n",
        "import torch.nn as nn\n",
        "from torch.nn import functional as F\n",
        "import pandas as pd\n",
        "import numpy as np\n",
        "from sklearn.model_selection import train_test_split"
      ]
    },
    {
      "cell_type": "code",
      "source": [],
      "metadata": {
        "id": "miF4VEtKqeON"
      },
      "execution_count": 368,
      "outputs": []
    },
    {
      "cell_type": "code",
      "source": [
        "class Mnist_Trainer(nn.Module):\n",
        "   def __init__(self, init_dim, hidden_size, class_objects,dropout):\n",
        "     super().__init__()\n",
        "     self.hidden_size=hidden_size\n",
        "     self.c=class_objects\n",
        "     self.l1=nn.Linear(init_dim, hidden_size)\n",
        "     self.relu=nn.ReLU()\n",
        "     self.dropout=nn.Dropout(dropout)\n",
        "     self.l2=nn.Linear(hidden_size, hidden_size)\n",
        "     self.l3=nn.Linear(hidden_size, class_objects)\n",
        "\n",
        "\n",
        "   def forward(self,x):\n",
        "     x = self.l1(x)\n",
        "     x = self.relu(x)\n",
        "     x = self.dropout(x)\n",
        "\n",
        "     x = self.l2(x)\n",
        "     x = self.relu(x)\n",
        "     x = self.dropout(x)\n",
        "\n",
        "     x=self.l3(x)\n",
        "\n",
        "     x=F.log_softmax(x,dim=-1)\n",
        "\n",
        "     return x\n",
        "\n",
        "\n",
        "def save_model(model):\n",
        "  torch.save(model.state_dict(),'model.pt')\n",
        "\n"
      ],
      "metadata": {
        "id": "OJROqp_YC5dg"
      },
      "execution_count": 398,
      "outputs": []
    },
    {
      "cell_type": "code",
      "source": [
        "data=pd.read_csv('/content/sample_data/mnist_train_small.csv',header=None)"
      ],
      "metadata": {
        "id": "EzFpApwnFVNR"
      },
      "execution_count": 399,
      "outputs": []
    },
    {
      "cell_type": "code",
      "source": [
        "data.head()"
      ],
      "metadata": {
        "colab": {
          "base_uri": "https://localhost:8080/",
          "height": 236
        },
        "id": "rAkV0yFiFZnp",
        "outputId": "2a492abf-12ea-472b-d72f-8db171ff2f80"
      },
      "execution_count": 400,
      "outputs": [
        {
          "output_type": "execute_result",
          "data": {
            "text/plain": [
              "   0    1    2    3    4    5    6    7    8    9    ...  775  776  777  778  \\\n",
              "0    6    0    0    0    0    0    0    0    0    0  ...    0    0    0    0   \n",
              "1    5    0    0    0    0    0    0    0    0    0  ...    0    0    0    0   \n",
              "2    7    0    0    0    0    0    0    0    0    0  ...    0    0    0    0   \n",
              "3    9    0    0    0    0    0    0    0    0    0  ...    0    0    0    0   \n",
              "4    5    0    0    0    0    0    0    0    0    0  ...    0    0    0    0   \n",
              "\n",
              "   779  780  781  782  783  784  \n",
              "0    0    0    0    0    0    0  \n",
              "1    0    0    0    0    0    0  \n",
              "2    0    0    0    0    0    0  \n",
              "3    0    0    0    0    0    0  \n",
              "4    0    0    0    0    0    0  \n",
              "\n",
              "[5 rows x 785 columns]"
            ],
            "text/html": [
              "\n",
              "\n",
              "  <div id=\"df-31bf9e02-b615-4f2c-bef2-992bdc9a2e7f\">\n",
              "    <div class=\"colab-df-container\">\n",
              "      <div>\n",
              "<style scoped>\n",
              "    .dataframe tbody tr th:only-of-type {\n",
              "        vertical-align: middle;\n",
              "    }\n",
              "\n",
              "    .dataframe tbody tr th {\n",
              "        vertical-align: top;\n",
              "    }\n",
              "\n",
              "    .dataframe thead th {\n",
              "        text-align: right;\n",
              "    }\n",
              "</style>\n",
              "<table border=\"1\" class=\"dataframe\">\n",
              "  <thead>\n",
              "    <tr style=\"text-align: right;\">\n",
              "      <th></th>\n",
              "      <th>0</th>\n",
              "      <th>1</th>\n",
              "      <th>2</th>\n",
              "      <th>3</th>\n",
              "      <th>4</th>\n",
              "      <th>5</th>\n",
              "      <th>6</th>\n",
              "      <th>7</th>\n",
              "      <th>8</th>\n",
              "      <th>9</th>\n",
              "      <th>...</th>\n",
              "      <th>775</th>\n",
              "      <th>776</th>\n",
              "      <th>777</th>\n",
              "      <th>778</th>\n",
              "      <th>779</th>\n",
              "      <th>780</th>\n",
              "      <th>781</th>\n",
              "      <th>782</th>\n",
              "      <th>783</th>\n",
              "      <th>784</th>\n",
              "    </tr>\n",
              "  </thead>\n",
              "  <tbody>\n",
              "    <tr>\n",
              "      <th>0</th>\n",
              "      <td>6</td>\n",
              "      <td>0</td>\n",
              "      <td>0</td>\n",
              "      <td>0</td>\n",
              "      <td>0</td>\n",
              "      <td>0</td>\n",
              "      <td>0</td>\n",
              "      <td>0</td>\n",
              "      <td>0</td>\n",
              "      <td>0</td>\n",
              "      <td>...</td>\n",
              "      <td>0</td>\n",
              "      <td>0</td>\n",
              "      <td>0</td>\n",
              "      <td>0</td>\n",
              "      <td>0</td>\n",
              "      <td>0</td>\n",
              "      <td>0</td>\n",
              "      <td>0</td>\n",
              "      <td>0</td>\n",
              "      <td>0</td>\n",
              "    </tr>\n",
              "    <tr>\n",
              "      <th>1</th>\n",
              "      <td>5</td>\n",
              "      <td>0</td>\n",
              "      <td>0</td>\n",
              "      <td>0</td>\n",
              "      <td>0</td>\n",
              "      <td>0</td>\n",
              "      <td>0</td>\n",
              "      <td>0</td>\n",
              "      <td>0</td>\n",
              "      <td>0</td>\n",
              "      <td>...</td>\n",
              "      <td>0</td>\n",
              "      <td>0</td>\n",
              "      <td>0</td>\n",
              "      <td>0</td>\n",
              "      <td>0</td>\n",
              "      <td>0</td>\n",
              "      <td>0</td>\n",
              "      <td>0</td>\n",
              "      <td>0</td>\n",
              "      <td>0</td>\n",
              "    </tr>\n",
              "    <tr>\n",
              "      <th>2</th>\n",
              "      <td>7</td>\n",
              "      <td>0</td>\n",
              "      <td>0</td>\n",
              "      <td>0</td>\n",
              "      <td>0</td>\n",
              "      <td>0</td>\n",
              "      <td>0</td>\n",
              "      <td>0</td>\n",
              "      <td>0</td>\n",
              "      <td>0</td>\n",
              "      <td>...</td>\n",
              "      <td>0</td>\n",
              "      <td>0</td>\n",
              "      <td>0</td>\n",
              "      <td>0</td>\n",
              "      <td>0</td>\n",
              "      <td>0</td>\n",
              "      <td>0</td>\n",
              "      <td>0</td>\n",
              "      <td>0</td>\n",
              "      <td>0</td>\n",
              "    </tr>\n",
              "    <tr>\n",
              "      <th>3</th>\n",
              "      <td>9</td>\n",
              "      <td>0</td>\n",
              "      <td>0</td>\n",
              "      <td>0</td>\n",
              "      <td>0</td>\n",
              "      <td>0</td>\n",
              "      <td>0</td>\n",
              "      <td>0</td>\n",
              "      <td>0</td>\n",
              "      <td>0</td>\n",
              "      <td>...</td>\n",
              "      <td>0</td>\n",
              "      <td>0</td>\n",
              "      <td>0</td>\n",
              "      <td>0</td>\n",
              "      <td>0</td>\n",
              "      <td>0</td>\n",
              "      <td>0</td>\n",
              "      <td>0</td>\n",
              "      <td>0</td>\n",
              "      <td>0</td>\n",
              "    </tr>\n",
              "    <tr>\n",
              "      <th>4</th>\n",
              "      <td>5</td>\n",
              "      <td>0</td>\n",
              "      <td>0</td>\n",
              "      <td>0</td>\n",
              "      <td>0</td>\n",
              "      <td>0</td>\n",
              "      <td>0</td>\n",
              "      <td>0</td>\n",
              "      <td>0</td>\n",
              "      <td>0</td>\n",
              "      <td>...</td>\n",
              "      <td>0</td>\n",
              "      <td>0</td>\n",
              "      <td>0</td>\n",
              "      <td>0</td>\n",
              "      <td>0</td>\n",
              "      <td>0</td>\n",
              "      <td>0</td>\n",
              "      <td>0</td>\n",
              "      <td>0</td>\n",
              "      <td>0</td>\n",
              "    </tr>\n",
              "  </tbody>\n",
              "</table>\n",
              "<p>5 rows × 785 columns</p>\n",
              "</div>\n",
              "      <button class=\"colab-df-convert\" onclick=\"convertToInteractive('df-31bf9e02-b615-4f2c-bef2-992bdc9a2e7f')\"\n",
              "              title=\"Convert this dataframe to an interactive table.\"\n",
              "              style=\"display:none;\">\n",
              "\n",
              "  <svg xmlns=\"http://www.w3.org/2000/svg\" height=\"24px\"viewBox=\"0 0 24 24\"\n",
              "       width=\"24px\">\n",
              "    <path d=\"M0 0h24v24H0V0z\" fill=\"none\"/>\n",
              "    <path d=\"M18.56 5.44l.94 2.06.94-2.06 2.06-.94-2.06-.94-.94-2.06-.94 2.06-2.06.94zm-11 1L8.5 8.5l.94-2.06 2.06-.94-2.06-.94L8.5 2.5l-.94 2.06-2.06.94zm10 10l.94 2.06.94-2.06 2.06-.94-2.06-.94-.94-2.06-.94 2.06-2.06.94z\"/><path d=\"M17.41 7.96l-1.37-1.37c-.4-.4-.92-.59-1.43-.59-.52 0-1.04.2-1.43.59L10.3 9.45l-7.72 7.72c-.78.78-.78 2.05 0 2.83L4 21.41c.39.39.9.59 1.41.59.51 0 1.02-.2 1.41-.59l7.78-7.78 2.81-2.81c.8-.78.8-2.07 0-2.86zM5.41 20L4 18.59l7.72-7.72 1.47 1.35L5.41 20z\"/>\n",
              "  </svg>\n",
              "      </button>\n",
              "\n",
              "\n",
              "\n",
              "    <div id=\"df-5d35776f-a1c0-4a5c-8912-75a811bd839e\">\n",
              "      <button class=\"colab-df-quickchart\" onclick=\"quickchart('df-5d35776f-a1c0-4a5c-8912-75a811bd839e')\"\n",
              "              title=\"Suggest charts.\"\n",
              "              style=\"display:none;\">\n",
              "\n",
              "<svg xmlns=\"http://www.w3.org/2000/svg\" height=\"24px\"viewBox=\"0 0 24 24\"\n",
              "     width=\"24px\">\n",
              "    <g>\n",
              "        <path d=\"M19 3H5c-1.1 0-2 .9-2 2v14c0 1.1.9 2 2 2h14c1.1 0 2-.9 2-2V5c0-1.1-.9-2-2-2zM9 17H7v-7h2v7zm4 0h-2V7h2v10zm4 0h-2v-4h2v4z\"/>\n",
              "    </g>\n",
              "</svg>\n",
              "      </button>\n",
              "    </div>\n",
              "\n",
              "<style>\n",
              "  .colab-df-quickchart {\n",
              "    background-color: #E8F0FE;\n",
              "    border: none;\n",
              "    border-radius: 50%;\n",
              "    cursor: pointer;\n",
              "    display: none;\n",
              "    fill: #1967D2;\n",
              "    height: 32px;\n",
              "    padding: 0 0 0 0;\n",
              "    width: 32px;\n",
              "  }\n",
              "\n",
              "  .colab-df-quickchart:hover {\n",
              "    background-color: #E2EBFA;\n",
              "    box-shadow: 0px 1px 2px rgba(60, 64, 67, 0.3), 0px 1px 3px 1px rgba(60, 64, 67, 0.15);\n",
              "    fill: #174EA6;\n",
              "  }\n",
              "\n",
              "  [theme=dark] .colab-df-quickchart {\n",
              "    background-color: #3B4455;\n",
              "    fill: #D2E3FC;\n",
              "  }\n",
              "\n",
              "  [theme=dark] .colab-df-quickchart:hover {\n",
              "    background-color: #434B5C;\n",
              "    box-shadow: 0px 1px 3px 1px rgba(0, 0, 0, 0.15);\n",
              "    filter: drop-shadow(0px 1px 2px rgba(0, 0, 0, 0.3));\n",
              "    fill: #FFFFFF;\n",
              "  }\n",
              "</style>\n",
              "\n",
              "    <script>\n",
              "      async function quickchart(key) {\n",
              "        const containerElement = document.querySelector('#' + key);\n",
              "        const charts = await google.colab.kernel.invokeFunction(\n",
              "            'suggestCharts', [key], {});\n",
              "      }\n",
              "    </script>\n",
              "\n",
              "      <script>\n",
              "\n",
              "function displayQuickchartButton(domScope) {\n",
              "  let quickchartButtonEl =\n",
              "    domScope.querySelector('#df-5d35776f-a1c0-4a5c-8912-75a811bd839e button.colab-df-quickchart');\n",
              "  quickchartButtonEl.style.display =\n",
              "    google.colab.kernel.accessAllowed ? 'block' : 'none';\n",
              "}\n",
              "\n",
              "        displayQuickchartButton(document);\n",
              "      </script>\n",
              "      <style>\n",
              "    .colab-df-container {\n",
              "      display:flex;\n",
              "      flex-wrap:wrap;\n",
              "      gap: 12px;\n",
              "    }\n",
              "\n",
              "    .colab-df-convert {\n",
              "      background-color: #E8F0FE;\n",
              "      border: none;\n",
              "      border-radius: 50%;\n",
              "      cursor: pointer;\n",
              "      display: none;\n",
              "      fill: #1967D2;\n",
              "      height: 32px;\n",
              "      padding: 0 0 0 0;\n",
              "      width: 32px;\n",
              "    }\n",
              "\n",
              "    .colab-df-convert:hover {\n",
              "      background-color: #E2EBFA;\n",
              "      box-shadow: 0px 1px 2px rgba(60, 64, 67, 0.3), 0px 1px 3px 1px rgba(60, 64, 67, 0.15);\n",
              "      fill: #174EA6;\n",
              "    }\n",
              "\n",
              "    [theme=dark] .colab-df-convert {\n",
              "      background-color: #3B4455;\n",
              "      fill: #D2E3FC;\n",
              "    }\n",
              "\n",
              "    [theme=dark] .colab-df-convert:hover {\n",
              "      background-color: #434B5C;\n",
              "      box-shadow: 0px 1px 3px 1px rgba(0, 0, 0, 0.15);\n",
              "      filter: drop-shadow(0px 1px 2px rgba(0, 0, 0, 0.3));\n",
              "      fill: #FFFFFF;\n",
              "    }\n",
              "  </style>\n",
              "\n",
              "      <script>\n",
              "        const buttonEl =\n",
              "          document.querySelector('#df-31bf9e02-b615-4f2c-bef2-992bdc9a2e7f button.colab-df-convert');\n",
              "        buttonEl.style.display =\n",
              "          google.colab.kernel.accessAllowed ? 'block' : 'none';\n",
              "\n",
              "        async function convertToInteractive(key) {\n",
              "          const element = document.querySelector('#df-31bf9e02-b615-4f2c-bef2-992bdc9a2e7f');\n",
              "          const dataTable =\n",
              "            await google.colab.kernel.invokeFunction('convertToInteractive',\n",
              "                                                     [key], {});\n",
              "          if (!dataTable) return;\n",
              "\n",
              "          const docLinkHtml = 'Like what you see? Visit the ' +\n",
              "            '<a target=\"_blank\" href=https://colab.research.google.com/notebooks/data_table.ipynb>data table notebook</a>'\n",
              "            + ' to learn more about interactive tables.';\n",
              "          element.innerHTML = '';\n",
              "          dataTable['output_type'] = 'display_data';\n",
              "          await google.colab.output.renderOutput(dataTable, element);\n",
              "          const docLink = document.createElement('div');\n",
              "          docLink.innerHTML = docLinkHtml;\n",
              "          element.appendChild(docLink);\n",
              "        }\n",
              "      </script>\n",
              "    </div>\n",
              "  </div>\n"
            ]
          },
          "metadata": {},
          "execution_count": 400
        }
      ]
    },
    {
      "cell_type": "code",
      "source": [
        "from torch.utils.data import Dataset"
      ],
      "metadata": {
        "id": "LF2K_Z-ZFkOw"
      },
      "execution_count": 401,
      "outputs": []
    },
    {
      "cell_type": "code",
      "source": [
        "class DataFrameDataset(Dataset):\n",
        "     def __init__(self, x,labels):\n",
        "         self.x = x\n",
        "         self.labels=labels\n",
        "\n",
        "     def __len__(self):\n",
        "         return len(self.x)\n",
        "\n",
        "     def __getitem__(self, index):\n",
        "         x_small=self.x[index]\n",
        "         label=self.labels[index]\n",
        "         return x_small, label"
      ],
      "metadata": {
        "id": "FEXd7k7gG5PM"
      },
      "execution_count": 402,
      "outputs": []
    },
    {
      "cell_type": "code",
      "source": [
        "labels=data[0].values\n",
        "x=data.values[:,1:]\n",
        "mask = np.logical_and(labels >= 0, labels <= 4)\n",
        "x=x[mask]\n",
        "labels=labels[mask]\n",
        "\n",
        "X_train,X_test,y_train,y_test=train_test_split(x,labels)\n"
      ],
      "metadata": {
        "id": "zDLxF0BxG93R"
      },
      "execution_count": 414,
      "outputs": []
    },
    {
      "cell_type": "code",
      "source": [
        "dataset=DataFrameDataset(X_train,y_train)\n",
        "train_loader = torch.utils.data.DataLoader(dataset, batch_size=32)\n",
        "\n",
        "dataset=DataFrameDataset(X_test,y_test)\n",
        "test_loader = torch.utils.data.DataLoader(dataset, batch_size=32)"
      ],
      "metadata": {
        "id": "YnHJiJNFHCHB"
      },
      "execution_count": 415,
      "outputs": []
    },
    {
      "cell_type": "code",
      "source": [
        "for batch in test_loader:\n",
        "  print(batch[0],batch[1])\n",
        "  break"
      ],
      "metadata": {
        "colab": {
          "base_uri": "https://localhost:8080/"
        },
        "id": "WtnsVL24Hnlt",
        "outputId": "4ddc5767-b9d3-4e4d-96ae-01f3a016aca8"
      },
      "execution_count": 416,
      "outputs": [
        {
          "output_type": "stream",
          "name": "stdout",
          "text": [
            "tensor([[0, 0, 0,  ..., 0, 0, 0],\n",
            "        [0, 0, 0,  ..., 0, 0, 0],\n",
            "        [0, 0, 0,  ..., 0, 0, 0],\n",
            "        ...,\n",
            "        [0, 0, 0,  ..., 0, 0, 0],\n",
            "        [0, 0, 0,  ..., 0, 0, 0],\n",
            "        [0, 0, 0,  ..., 0, 0, 0]]) tensor([4, 2, 2, 2, 1, 0, 3, 1, 1, 4, 1, 2, 0, 1, 3, 0, 0, 0, 2, 4, 1, 3, 1, 3,\n",
            "        0, 4, 0, 2, 0, 0, 1, 0])\n"
          ]
        }
      ]
    },
    {
      "cell_type": "code",
      "source": [
        "model_1=Mnist_Trainer(784,64,5,0.3)\n",
        "criterion = F.nll_loss\n",
        "\n",
        " # Optimizer\n",
        "optimizer = torch.optim.Adam(model_1.parameters(), lr=0.001)"
      ],
      "metadata": {
        "id": "eAGtTMkhIfCz"
      },
      "execution_count": 417,
      "outputs": []
    },
    {
      "cell_type": "code",
      "source": [
        "for m in model_1.parameters():\n",
        "  print(m.numel())"
      ],
      "metadata": {
        "colab": {
          "base_uri": "https://localhost:8080/"
        },
        "id": "XGGMq_sRJMY4",
        "outputId": "e4988af4-a282-476e-ae66-7342e5a59cce"
      },
      "execution_count": 418,
      "outputs": [
        {
          "output_type": "stream",
          "name": "stdout",
          "text": [
            "50176\n",
            "64\n",
            "4096\n",
            "64\n",
            "320\n",
            "5\n"
          ]
        }
      ]
    },
    {
      "cell_type": "code",
      "source": [
        "def train_model(model,train_loader,val_loader,epochs=10,lora=False):\n",
        "  last_val=-99999\n",
        "  for epoch in range(epochs):\n",
        "    train_accuracys=[]\n",
        "    for batch in train_loader:\n",
        "      inputs = batch[0].float()\n",
        "      targets = batch[1]\n",
        "\n",
        "      if lora:\n",
        "        targets=targets-5\n",
        "\n",
        "\n",
        "      optimizer.zero_grad()\n",
        "      # Forward pass\n",
        "      outputs = model(inputs)\n",
        "      train_accuracy=(torch.argmax(outputs,dim=-1)==targets).sum()/targets.shape[0]\n",
        "      train_accuracys.append(train_accuracy)\n",
        "      # Loss\n",
        "      loss = criterion(outputs, targets)\n",
        "      # Backward pass\n",
        "      loss.backward()\n",
        "\n",
        "      # Update weights\n",
        "      optimizer.step()\n",
        "\n",
        "\n",
        "    val_losses = []\n",
        "    val_accuracys=[]\n",
        "    model.eval()  # Set model to eval mode\n",
        "    with torch.no_grad():\n",
        "      for val_batch in test_loader:\n",
        "        val_inputs = val_batch[0].float()\n",
        "        val_targets = val_batch[1]\n",
        "\n",
        "        if lora:\n",
        "          val_targets=val_targets-5\n",
        "\n",
        "        val_outputs = model(val_inputs)\n",
        "        val_loss = criterion(val_outputs, val_targets)\n",
        "        val_losses.append(val_loss.item())\n",
        "        val_accuracy=(torch.argmax(val_outputs,dim=-1)==val_targets).sum()/val_targets.shape[0]\n",
        "        val_accuracys.append(val_accuracy)\n",
        "    if last_val< np.mean(val_accuracys):\n",
        "        if not lora:\n",
        "          save_model(model)\n",
        "        last_val=np.mean(val_accuracys)\n",
        "    # Print losses\n",
        "    print(f'Epoch {epoch+1} - Train loss: {loss.item():.4f}, Val loss: {np.mean(val_losses):.4f}, Val Acc: {np.mean(val_accuracys)}, Train Acc: {np.mean(train_accuracys)}')\n",
        "\n",
        "    # Set model back to train mode\n",
        "    model.train()\n",
        "  return val_accuracys,train_accuracys\n"
      ],
      "metadata": {
        "id": "k7m5GySUMSOH"
      },
      "execution_count": 419,
      "outputs": []
    },
    {
      "cell_type": "code",
      "source": [
        "acc_val,acc_train=train_model(model_1,train_loader,test_loader,10)\n"
      ],
      "metadata": {
        "colab": {
          "base_uri": "https://localhost:8080/"
        },
        "outputId": "47ec42f2-c97d-4422-94ec-0ff688f055ee",
        "id": "eYlpA6QwVWCs"
      },
      "execution_count": 420,
      "outputs": [
        {
          "output_type": "stream",
          "name": "stdout",
          "text": [
            "Epoch 1 - Train loss: 0.3894, Val loss: 0.1607, Val Acc: 0.959765613079071, Train Acc: 0.8252888321876526\n",
            "Epoch 2 - Train loss: 0.2070, Val loss: 0.1312, Val Acc: 0.9638393521308899, Train Acc: 0.9213234782218933\n",
            "Epoch 3 - Train loss: 0.0076, Val loss: 0.1246, Val Acc: 0.9650112390518188, Train Acc: 0.939994752407074\n",
            "Epoch 4 - Train loss: 0.0703, Val loss: 0.1201, Val Acc: 0.971875011920929, Train Acc: 0.9518119692802429\n",
            "Epoch 5 - Train loss: 0.0571, Val loss: 0.1028, Val Acc: 0.9724330902099609, Train Acc: 0.9585084319114685\n",
            "Epoch 6 - Train loss: 0.0765, Val loss: 0.1075, Val Acc: 0.973214328289032, Train Acc: 0.9615283608436584\n",
            "Epoch 7 - Train loss: 0.0854, Val loss: 0.1092, Val Acc: 0.9716518521308899, Train Acc: 0.9664390683174133\n",
            "Epoch 8 - Train loss: 0.0659, Val loss: 0.1101, Val Acc: 0.9730468988418579, Train Acc: 0.9708508253097534\n",
            "Epoch 9 - Train loss: 0.1197, Val loss: 0.1007, Val Acc: 0.9765625, Train Acc: 0.9714285731315613\n",
            "Epoch 10 - Train loss: 0.0509, Val loss: 0.1055, Val Acc: 0.973828136920929, Train Acc: 0.9761029481887817\n"
          ]
        }
      ]
    },
    {
      "cell_type": "code",
      "source": [],
      "metadata": {
        "id": "l1btH3xANKP8"
      },
      "execution_count": 420,
      "outputs": []
    },
    {
      "cell_type": "code",
      "source": [
        "#Lora Experiment"
      ],
      "metadata": {
        "id": "bUFNzhn4Pc_q"
      },
      "execution_count": 421,
      "outputs": []
    },
    {
      "cell_type": "code",
      "source": [
        "class Mnist_Trainer_Lora(nn.Module):\n",
        "   def __init__(self, init_dim, hidden_size, class_objects,dropout,lora_rank,lora_alpha):\n",
        "     super().__init__()\n",
        "     self.hidden_size=hidden_size\n",
        "     self.c=class_objects\n",
        "     self.lora_rank=lora_rank\n",
        "     self.lora_alpha=lora_alpha\n",
        "\n",
        "     self.l1=nn.Linear(init_dim, hidden_size)\n",
        "     self.l2=nn.Linear(hidden_size, hidden_size)\n",
        "     self.l3=nn.Linear(hidden_size, class_objects)\n",
        "     self.relu=nn.ReLU()\n",
        "     self.dropout=nn.Dropout(dropout)\n",
        "\n",
        "     #lora init\n",
        "     self.lora_l1_A=nn.Parameter(torch.empty(init_dim,lora_rank))\n",
        "     self.lora_l1_B=nn.Parameter(torch.empty(lora_rank,hidden_size))\n",
        "\n",
        "     self.lora_l2_A=nn.Parameter(torch.empty(hidden_size,lora_rank))\n",
        "     self.lora_l2_B=nn.Parameter(torch.empty(lora_rank,hidden_size))\n",
        "\n",
        "     self.lora_l3_A=nn.Parameter(torch.empty(hidden_size,lora_rank))\n",
        "     self.lora_l3_B=nn.Parameter(torch.empty(lora_rank,class_objects))\n",
        "\n",
        "\n",
        "     for n,p in self.named_parameters():\n",
        "        if 'lora' in n:\n",
        "\n",
        "          if n[-1]=='A':\n",
        "            nn.init.kaiming_uniform_(p,a=math.sqrt(5))\n",
        "          else:\n",
        "            nn.init.zeros_(p)\n",
        "        if 'lora' not in n:\n",
        "          p.requires_grad=False\n",
        "\n",
        "\n",
        "   def compute_lora(self,x,layer,A,B):\n",
        "     h=layer(x)\n",
        "     h+=x@(A@B)*self.lora_alpha\n",
        "     return h\n",
        "\n",
        "   def forward(self,x):\n",
        "     x=self.compute_lora(x,self.l1,self.lora_l1_A,self.lora_l1_B)\n",
        "     x=self.relu(x)\n",
        "     x=self.dropout(x)\n",
        "\n",
        "     x=self.compute_lora(x,self.l2,self.lora_l2_A,self.lora_l2_B)\n",
        "     x=self.relu(x)\n",
        "     x=self.dropout(x)\n",
        "\n",
        "     x=self.compute_lora(x,self.l3,self.lora_l3_A,self.lora_l3_B)\n",
        "\n",
        "     x=F.log_softmax(x,dim=-1)\n",
        "     return x\n",
        "\n",
        "\n",
        "\n",
        "def save_model(model):\n",
        "  torch.save(model.state_dict(),'model.pt')\n",
        "\n",
        "def lora_experiment(rank,train_loader,test_loader):\n",
        "  state_dict=torch.load('model.pt')\n",
        "  model=Mnist_Trainer_Lora(784,64,5,0.1,rank,1)\n",
        "  model.load_state_dict(state_dict,strict=False)\n",
        "  train_model(model,train_loader,test_loader,10,True)\n",
        "  return model\n",
        "\n",
        ""
      ],
      "metadata": {
        "id": "49haXN8yPxqZ"
      },
      "execution_count": 448,
      "outputs": []
    },
    {
      "cell_type": "code",
      "source": [
        "labels=data[0].values\n",
        "x=data.values[:,1:]\n",
        "mask = np.logical_and(labels >= 5, labels <= 9)\n",
        "x=x[mask]\n",
        "labels=labels[mask]\n",
        "\n",
        "X_train,X_test,y_train,y_test=train_test_split(x,labels)\n",
        "\n",
        "dataset=DataFrameDataset(X_train,y_train)\n",
        "train_loader = torch.utils.data.DataLoader(dataset, batch_size=32)\n",
        "\n",
        "dataset=DataFrameDataset(X_test,y_test)\n",
        "test_loader = torch.utils.data.DataLoader(dataset, batch_size=32)"
      ],
      "metadata": {
        "id": "ZLPWWeUWd59D"
      },
      "execution_count": 440,
      "outputs": []
    },
    {
      "cell_type": "code",
      "source": [
        "model=lora_experiment(64,train_loader,test_loader)"
      ],
      "metadata": {
        "colab": {
          "base_uri": "https://localhost:8080/"
        },
        "id": "9NeK7KnNd8Qm",
        "outputId": "73b63ba4-5ef1-4acc-8737-b6e536e2f7e0"
      },
      "execution_count": 450,
      "outputs": [
        {
          "output_type": "stream",
          "name": "stdout",
          "text": [
            "Epoch 1 - Train loss: 4.0175, Val loss: 4.3658, Val Acc: 0.3337339758872986, Train Acc: 0.3131735026836395\n",
            "Epoch 2 - Train loss: 3.8863, Val loss: 4.3658, Val Acc: 0.3337339758872986, Train Acc: 0.31303879618644714\n",
            "Epoch 3 - Train loss: 2.9128, Val loss: 4.3658, Val Acc: 0.3337339758872986, Train Acc: 0.31492456793785095\n",
            "Epoch 4 - Train loss: 3.9416, Val loss: 4.3658, Val Acc: 0.3337339758872986, Train Acc: 0.3131735026836395\n",
            "Epoch 5 - Train loss: 3.7393, Val loss: 4.3658, Val Acc: 0.3337339758872986, Train Acc: 0.31128770112991333\n",
            "Epoch 6 - Train loss: 3.5754, Val loss: 4.3658, Val Acc: 0.3337339758872986, Train Acc: 0.31505927443504333\n",
            "Epoch 7 - Train loss: 2.3931, Val loss: 4.3658, Val Acc: 0.3337339758872986, Train Acc: 0.31290408968925476\n",
            "Epoch 8 - Train loss: 3.5544, Val loss: 4.3658, Val Acc: 0.3337339758872986, Train Acc: 0.3173491358757019\n",
            "Epoch 9 - Train loss: 3.8735, Val loss: 4.3658, Val Acc: 0.3337339758872986, Train Acc: 0.31384697556495667\n",
            "Epoch 10 - Train loss: 3.8469, Val loss: 4.3658, Val Acc: 0.3337339758872986, Train Acc: 0.3145204782485962\n"
          ]
        }
      ]
    },
    {
      "cell_type": "code",
      "source": [
        "labels"
      ],
      "metadata": {
        "colab": {
          "base_uri": "https://localhost:8080/"
        },
        "id": "plrWj3eIfvl0",
        "outputId": "967be4e2-2d38-477b-f510-c9a5dbaff4b8"
      },
      "execution_count": 427,
      "outputs": [
        {
          "output_type": "execute_result",
          "data": {
            "text/plain": [
              "array([6, 5, 7, ..., 5, 9, 5])"
            ]
          },
          "metadata": {},
          "execution_count": 427
        }
      ]
    },
    {
      "cell_type": "code",
      "source": [
        "state_dict=torch.load('model.pt')"
      ],
      "metadata": {
        "id": "bnX22iEyf4KI"
      },
      "execution_count": 428,
      "outputs": []
    },
    {
      "cell_type": "code",
      "source": [
        "state_dict"
      ],
      "metadata": {
        "colab": {
          "base_uri": "https://localhost:8080/"
        },
        "id": "G-M-H5uShIDn",
        "outputId": "c6dcfcb0-05cc-4508-8574-e6c6bd000210"
      },
      "execution_count": 429,
      "outputs": [
        {
          "output_type": "execute_result",
          "data": {
            "text/plain": [
              "OrderedDict([('l1.weight',\n",
              "              tensor([[-0.0355, -0.0180, -0.0316,  ...,  0.0088, -0.0091,  0.0273],\n",
              "                      [-0.0257, -0.0146,  0.0088,  ...,  0.0316,  0.0209, -0.0250],\n",
              "                      [ 0.0010, -0.0340,  0.0038,  ..., -0.0244, -0.0078,  0.0073],\n",
              "                      ...,\n",
              "                      [ 0.0188,  0.0176,  0.0160,  ..., -0.0348,  0.0287,  0.0354],\n",
              "                      [-0.0117,  0.0017, -0.0316,  ..., -0.0096, -0.0087,  0.0164],\n",
              "                      [-0.0005, -0.0185, -0.0138,  ..., -0.0085, -0.0073, -0.0336]])),\n",
              "             ('l1.bias',\n",
              "              tensor([-0.0305, -0.0323, -0.0414,  0.0064, -0.0640,  0.0104, -0.0009,  0.0156,\n",
              "                      -0.0369, -0.0342, -0.0201,  0.0142,  0.0265,  0.0282, -0.0343,  0.0258,\n",
              "                      -0.0470, -0.0100, -0.0235, -0.0371, -0.0202, -0.0212, -0.0550, -0.0284,\n",
              "                      -0.0101, -0.0315, -0.0057, -0.0463, -0.0005, -0.0155, -0.0541,  0.0220,\n",
              "                      -0.0362, -0.0016, -0.0352, -0.0027, -0.0327,  0.0031,  0.0341,  0.0271,\n",
              "                      -0.0572,  0.0104,  0.0138,  0.0169, -0.0321,  0.0232,  0.0018, -0.0579,\n",
              "                      -0.0091,  0.0284,  0.0157,  0.0088,  0.0081, -0.0166, -0.0264, -0.0278,\n",
              "                       0.0259, -0.0378, -0.0317,  0.0108, -0.0136,  0.0047, -0.0260,  0.0203])),\n",
              "             ('l2.weight',\n",
              "              tensor([[-0.0417,  0.0816,  0.0584,  ..., -0.0855,  0.0590,  0.0556],\n",
              "                      [-0.0702,  0.0617,  0.0700,  ..., -0.1022,  0.0328, -0.0515],\n",
              "                      [-0.0986,  0.1109, -0.0023,  ...,  0.1221, -0.1265, -0.0746],\n",
              "                      ...,\n",
              "                      [ 0.1006, -0.0327,  0.0181,  ..., -0.0017,  0.0081, -0.0627],\n",
              "                      [ 0.0915, -0.0046,  0.0378,  ..., -0.0583,  0.0806,  0.0983],\n",
              "                      [-0.0043, -0.0464,  0.1045,  ...,  0.0495, -0.1112, -0.0745]])),\n",
              "             ('l2.bias',\n",
              "              tensor([-0.0612, -0.1418,  0.1634, -0.0697, -0.1765, -0.0600, -0.0811, -0.1287,\n",
              "                       0.2907, -0.1489, -0.0418, -0.0304,  0.0586, -0.1758,  0.1018, -0.0953,\n",
              "                       0.0285,  0.0660, -0.0725,  0.0842,  0.0385, -0.0465,  0.1961,  0.0987,\n",
              "                       0.0991,  0.0249, -0.0810, -0.0101,  0.0417, -0.1018, -0.1085, -0.1081,\n",
              "                       0.0234, -0.0580, -0.1426, -0.1515,  0.1837, -0.0599, -0.0005, -0.1166,\n",
              "                       0.0035, -0.0507, -0.0177,  0.1215, -0.0251,  0.0611, -0.1838, -0.1219,\n",
              "                       0.0942, -0.0464,  0.1070, -0.1643, -0.1550, -0.0628, -0.0809, -0.0964,\n",
              "                      -0.0149, -0.1060, -0.1583, -0.0418, -0.1206, -0.0025, -0.0854, -0.0534])),\n",
              "             ('l3.weight',\n",
              "              tensor([[-8.3878e-02,  5.5961e-02, -5.0894e-03, -1.4156e-02, -4.5607e-02,\n",
              "                        4.1269e-02,  6.2781e-03,  3.6755e-02, -4.2256e-02, -6.1253e-02,\n",
              "                        2.7300e-02, -3.2930e-02,  2.1058e-02, -9.1409e-02, -8.9365e-03,\n",
              "                       -7.3712e-02, -3.7754e-02,  9.0379e-02,  1.0327e-01,  3.5646e-02,\n",
              "                       -9.4207e-02,  9.6373e-03,  6.8517e-02, -6.8315e-02, -4.3854e-02,\n",
              "                       -1.2402e-02, -5.2607e-02,  5.0302e-03,  5.9301e-02, -2.4633e-02,\n",
              "                        9.8162e-02,  6.5728e-02, -1.2172e-01,  2.9944e-02,  4.2949e-02,\n",
              "                       -8.2151e-02,  1.1450e-02,  6.7245e-02, -2.9658e-02, -1.5124e-02,\n",
              "                       -7.9313e-02,  6.5306e-02,  9.1360e-03,  5.9382e-02,  3.7388e-02,\n",
              "                       -2.7142e-02, -7.9635e-02, -6.4170e-02,  5.5091e-03, -1.3729e-02,\n",
              "                        6.5927e-02,  4.9230e-02, -6.9238e-02, -2.0291e-02, -1.2059e-01,\n",
              "                       -4.7800e-02, -4.4630e-02, -2.1905e-02, -2.1270e-02, -6.5807e-02,\n",
              "                        1.6429e-02,  5.1512e-02,  5.4459e-03,  7.1406e-03],\n",
              "                      [ 3.8326e-02,  9.1257e-02, -1.5345e-01,  3.4859e-02,  6.6230e-02,\n",
              "                        1.7955e-02,  1.7130e-02,  3.9577e-02, -6.1196e-02, -7.8068e-02,\n",
              "                       -1.1437e-02, -9.4469e-02,  3.2214e-02,  7.2402e-02, -6.2417e-02,\n",
              "                       -2.6806e-02, -2.8215e-02,  7.1766e-02,  3.5511e-02,  5.7121e-03,\n",
              "                        3.6075e-02,  9.2688e-02, -3.0883e-02, -6.6383e-02, -1.0055e-01,\n",
              "                        1.5896e-02, -9.6969e-03,  2.5727e-02, -8.3281e-02, -2.8221e-02,\n",
              "                       -6.0019e-02,  6.9577e-02,  5.5291e-03,  4.2130e-02, -3.3784e-02,\n",
              "                       -5.4385e-02, -5.6648e-02, -1.9757e-02, -1.2212e-02, -8.3759e-02,\n",
              "                        4.1292e-02,  1.1559e-02, -1.2237e-02, -9.5985e-02, -2.6583e-02,\n",
              "                        2.8527e-02, -4.6475e-03,  6.7194e-02, -5.3845e-02, -6.5291e-03,\n",
              "                       -2.1615e-02, -2.1472e-03, -4.8605e-02,  3.8773e-02, -1.6989e-02,\n",
              "                       -5.6286e-02,  4.0100e-02,  5.7932e-02,  4.6424e-05, -2.6554e-02,\n",
              "                        7.1076e-02,  3.2158e-02,  1.0250e-01, -8.7987e-02],\n",
              "                      [ 7.3472e-03,  7.9859e-02, -4.8671e-02,  2.2655e-02,  3.2548e-02,\n",
              "                       -4.5755e-02,  6.5152e-02, -1.3054e-02, -3.6647e-03,  5.2134e-02,\n",
              "                       -1.0017e-02, -2.8089e-02, -1.4683e-03,  5.4708e-02,  1.0663e-02,\n",
              "                       -9.1100e-02, -3.8685e-02,  6.8643e-02,  1.9852e-02,  3.3405e-02,\n",
              "                        8.6706e-03,  8.0973e-02,  4.5872e-02,  2.9173e-02, -7.4636e-03,\n",
              "                        5.1018e-02, -1.1067e-02, -6.8588e-03, -5.0013e-02, -7.9390e-02,\n",
              "                        5.0996e-02, -5.7928e-02,  1.1542e-02,  4.2376e-03,  3.4447e-02,\n",
              "                        6.7483e-03,  6.5838e-03,  3.8763e-02,  4.0903e-02, -1.7709e-02,\n",
              "                        3.9473e-02, -5.8540e-02,  2.2667e-02,  7.1095e-02, -5.3499e-02,\n",
              "                        4.9492e-02, -4.6661e-02,  1.5201e-02, -1.6520e-02,  5.5036e-02,\n",
              "                        2.2002e-02, -3.4889e-02, -1.0254e-01, -2.4928e-02, -6.2367e-03,\n",
              "                       -1.7472e-02, -2.2319e-02, -5.8933e-02, -5.9150e-03, -9.9638e-02,\n",
              "                       -6.0201e-02,  1.4304e-02,  8.3795e-02, -1.3089e-02],\n",
              "                      [ 3.2073e-02, -1.0619e-02, -6.3880e-02,  4.6412e-02, -2.4829e-02,\n",
              "                       -9.4147e-02,  1.7149e-02, -7.4172e-02, -3.8560e-02,  5.5508e-02,\n",
              "                       -7.9186e-03,  5.4424e-02,  6.6522e-02,  4.3859e-02,  7.4941e-03,\n",
              "                       -4.0610e-02, -4.9582e-02,  9.7360e-02, -3.4395e-02, -1.7930e-02,\n",
              "                        2.4343e-02,  5.8284e-02,  2.4473e-02,  3.1177e-02, -1.9770e-03,\n",
              "                        8.0165e-02, -3.2538e-02, -5.7410e-02, -5.2900e-02, -2.6172e-02,\n",
              "                        7.9313e-02,  5.5068e-02, -7.0934e-03,  3.5193e-02,  2.6243e-02,\n",
              "                        3.5357e-02,  2.4204e-02, -2.0729e-02,  5.3277e-02,  3.4512e-02,\n",
              "                        4.4593e-03, -1.3466e-02, -6.6168e-02,  3.4568e-02,  2.3555e-02,\n",
              "                       -5.6413e-02,  7.9233e-03,  2.4547e-02, -6.4407e-02,  5.4087e-02,\n",
              "                        8.8323e-02,  2.4641e-02, -5.4245e-02,  3.0351e-02, -6.6739e-03,\n",
              "                       -5.7514e-02, -3.7187e-02,  1.3773e-02, -6.1989e-02, -5.4926e-02,\n",
              "                       -5.9257e-02, -1.2261e-02,  3.7383e-02, -1.8941e-02],\n",
              "                      [ 3.3197e-02, -4.5009e-02, -7.7036e-02,  8.9564e-02,  5.7610e-02,\n",
              "                       -6.4762e-02, -3.8776e-02,  4.1302e-02, -5.2166e-02,  2.6926e-02,\n",
              "                        5.4982e-02,  2.3619e-02, -4.7942e-02,  2.5228e-03,  2.5929e-03,\n",
              "                       -1.1554e-01,  1.1513e-02, -1.2435e-02, -2.1051e-02, -3.6191e-02,\n",
              "                       -1.0920e-01, -2.0206e-02,  8.0382e-02, -1.8284e-02, -7.9832e-02,\n",
              "                        5.6198e-02,  5.8891e-03, -3.9255e-02,  1.1627e-02,  3.1886e-03,\n",
              "                        3.2934e-02,  8.6790e-03,  2.7128e-02, -1.7954e-02,  6.9842e-02,\n",
              "                        6.3602e-02, -2.3566e-02,  4.9228e-02,  5.7366e-02, -6.7195e-02,\n",
              "                        4.3898e-02,  2.7287e-03,  5.6710e-02,  6.0897e-02,  5.4463e-03,\n",
              "                        6.8115e-02,  4.3640e-02,  2.1020e-02,  1.1291e-02, -9.6408e-02,\n",
              "                       -6.2996e-03,  3.0857e-02, -8.2972e-02,  6.2081e-02, -4.8946e-02,\n",
              "                       -1.9555e-02,  3.0006e-02,  2.6731e-02, -5.6970e-02, -3.8757e-02,\n",
              "                       -4.9627e-02,  6.3641e-02, -2.4866e-02, -4.4474e-02]])),\n",
              "             ('l3.bias',\n",
              "              tensor([-0.0884, -0.1065,  0.1925,  0.0590,  0.1014]))])"
            ]
          },
          "metadata": {},
          "execution_count": 429
        }
      ]
    },
    {
      "cell_type": "code",
      "source": [
        "state_dict=torch.load('model.pt')\n",
        "model=Mnist_Trainer_Lora(784,64,5,0.1,4,1)\n",
        "model.load_state_dict(state_dict,strict=False)"
      ],
      "metadata": {
        "colab": {
          "base_uri": "https://localhost:8080/"
        },
        "id": "_pyQ_FDrua3c",
        "outputId": "f99f8433-cb83-4f14-86e7-c7c2b82e7a05"
      },
      "execution_count": 449,
      "outputs": [
        {
          "output_type": "execute_result",
          "data": {
            "text/plain": [
              "_IncompatibleKeys(missing_keys=['lora_l1_A', 'lora_l1_B', 'lora_l2_A', 'lora_l2_B', 'lora_l3_A', 'lora_l3_B'], unexpected_keys=[])"
            ]
          },
          "metadata": {},
          "execution_count": 449
        }
      ]
    },
    {
      "cell_type": "code",
      "source": [],
      "metadata": {
        "id": "ydBz-CbMugRJ"
      },
      "execution_count": 438,
      "outputs": []
    },
    {
      "cell_type": "code",
      "source": [
        "logits=model(batch[0].float())"
      ],
      "metadata": {
        "id": "orm2i_xMumnS"
      },
      "execution_count": 451,
      "outputs": []
    },
    {
      "cell_type": "code",
      "source": [
        "torch.argmax(logits,dim=-1)"
      ],
      "metadata": {
        "colab": {
          "base_uri": "https://localhost:8080/"
        },
        "id": "QAnlZ6oGvGIz",
        "outputId": "15eb6243-cef6-4b7b-dcab-f17c897d292d"
      },
      "execution_count": 452,
      "outputs": [
        {
          "output_type": "execute_result",
          "data": {
            "text/plain": [
              "tensor([4, 2, 2, 2, 1, 0, 3, 1, 1, 4, 1, 2, 0, 1, 3, 0, 0, 0, 2, 4, 1, 3, 1, 3,\n",
              "        0, 4, 0, 2, 0, 0, 1, 0])"
            ]
          },
          "metadata": {},
          "execution_count": 452
        }
      ]
    },
    {
      "cell_type": "code",
      "source": [
        "batch[1]"
      ],
      "metadata": {
        "colab": {
          "base_uri": "https://localhost:8080/"
        },
        "id": "VX3XyboivLMS",
        "outputId": "e79d3dd3-864c-43a1-e53e-487ebd13707b"
      },
      "execution_count": 453,
      "outputs": [
        {
          "output_type": "execute_result",
          "data": {
            "text/plain": [
              "tensor([4, 2, 2, 2, 1, 0, 3, 1, 1, 4, 1, 2, 0, 1, 3, 0, 0, 0, 2, 4, 1, 3, 1, 3,\n",
              "        0, 4, 0, 2, 0, 0, 1, 0])"
            ]
          },
          "metadata": {},
          "execution_count": 453
        }
      ]
    },
    {
      "cell_type": "code",
      "source": [],
      "metadata": {
        "id": "SL8KGU-SvPGP"
      },
      "execution_count": null,
      "outputs": []
    }
  ]
}