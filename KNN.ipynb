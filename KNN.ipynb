{
  "nbformat": 4,
  "nbformat_minor": 0,
  "metadata": {
    "colab": {
      "name": "KNN.ipynb",
      "provenance": [],
      "authorship_tag": "ABX9TyOH3eyFocnwMSb8mw/b9iUw",
      "include_colab_link": true
    },
    "kernelspec": {
      "name": "python3",
      "display_name": "Python 3"
    }
  },
  "cells": [
    {
      "cell_type": "markdown",
      "metadata": {
        "id": "view-in-github",
        "colab_type": "text"
      },
      "source": [
        "<a href=\"https://colab.research.google.com/github/tejeshbhalla/Machine-Learning-From-Scratch/blob/master/KNN.ipynb\" target=\"_parent\"><img src=\"https://colab.research.google.com/assets/colab-badge.svg\" alt=\"Open In Colab\"/></a>"
      ]
    },
    {
      "cell_type": "code",
      "metadata": {
        "id": "7k4ectVhJisz"
      },
      "source": [
        "#knn is really basic and pretty powerful \n",
        "\n",
        "#knn just needs nearest neighbors to be figured out "
      ],
      "execution_count": 2,
      "outputs": []
    },
    {
      "cell_type": "code",
      "metadata": {
        "id": "y8Jyxtq_JvOE"
      },
      "source": [
        "#feature scaling in knn\n",
        "\n"
      ],
      "execution_count": null,
      "outputs": []
    },
    {
      "cell_type": "markdown",
      "metadata": {
        "id": "JjngQJrJMqui"
      },
      "source": [
        "KNN IN **`*SKLEARN*`**"
      ]
    },
    {
      "cell_type": "code",
      "metadata": {
        "id": "na2jHWK8Mwhk"
      },
      "source": [
        "from sklearn.datasets import load_breast_cancer\n",
        "from sklearn.preprocessing import scale\n",
        "from sklearn.model_selection import train_test_split\n",
        "from sklearn.neighbors import KNeighborsClassifier"
      ],
      "execution_count": 10,
      "outputs": []
    },
    {
      "cell_type": "code",
      "metadata": {
        "id": "Nkn0458aNAa3"
      },
      "source": [
        "X,y=load_breast_cancer()['data'],load_breast_cancer()['target']\n",
        "X_train,X_test,y_train,y_test=train_test_split(X,y,test_size=0.2)\n"
      ],
      "execution_count": 13,
      "outputs": []
    },
    {
      "cell_type": "code",
      "metadata": {
        "id": "lsmVZKcPNNzp"
      },
      "source": [
        "clf=KNeighborsClassifier(p=2,weights='distance',n_jobs=-1)"
      ],
      "execution_count": 56,
      "outputs": []
    },
    {
      "cell_type": "code",
      "metadata": {
        "id": "Z47uHos0Na_g",
        "outputId": "5e11dbe7-d16c-42a1-d8e2-e5b9e50253cc",
        "colab": {
          "base_uri": "https://localhost:8080/",
          "height": 72
        }
      },
      "source": [
        "clf.fit(X_train,y_train)"
      ],
      "execution_count": 57,
      "outputs": [
        {
          "output_type": "execute_result",
          "data": {
            "text/plain": [
              "KNeighborsClassifier(algorithm='auto', leaf_size=30, metric='minkowski',\n",
              "                     metric_params=None, n_jobs=-1, n_neighbors=5, p=2,\n",
              "                     weights='distance')"
            ]
          },
          "metadata": {
            "tags": []
          },
          "execution_count": 57
        }
      ]
    },
    {
      "cell_type": "code",
      "metadata": {
        "id": "5fjyrMmuNvHg",
        "outputId": "8ab7c5c6-2dee-4dea-ca9f-4bf39354fde5",
        "colab": {
          "base_uri": "https://localhost:8080/",
          "height": 35
        }
      },
      "source": [
        "clf.score(X_test,y_test)"
      ],
      "execution_count": 58,
      "outputs": [
        {
          "output_type": "execute_result",
          "data": {
            "text/plain": [
              "0.8859649122807017"
            ]
          },
          "metadata": {
            "tags": []
          },
          "execution_count": 58
        }
      ]
    },
    {
      "cell_type": "code",
      "metadata": {
        "id": "7NjLjO-AN7u_"
      },
      "source": [
        "##cross vaalidation really important "
      ],
      "execution_count": 59,
      "outputs": []
    },
    {
      "cell_type": "code",
      "metadata": {
        "id": "lPytXHqUPpBa"
      },
      "source": [
        "from sklearn.model_selection import cross_val_score\n",
        "import numpy as np\n",
        "import sklearn"
      ],
      "execution_count": 69,
      "outputs": []
    },
    {
      "cell_type": "code",
      "metadata": {
        "id": "shPfUO4dRNCU"
      },
      "source": [
        "np.mean(cross_val_score(clf,X_train,y_train,cv=sklearn.model_selection.KFold(10,True,0)))\n"
      ],
      "execution_count": 74,
      "outputs": []
    },
    {
      "cell_type": "code",
      "metadata": {
        "id": "o44EZrA6RTAA",
        "outputId": "10efda35-6da1-4acd-8ab8-c3d5a3b61f1c",
        "colab": {
          "base_uri": "https://localhost:8080/",
          "height": 283
        }
      },
      "source": [
        "x=[]\n",
        "y=[]\n",
        "for k in range(1,300,2):\n",
        "  clf=KNeighborsClassifier(k)\n",
        "  x.append(k)\n",
        "  y.append(np.mean(cross_val_score(clf,X_train,y_train)))\n",
        "\n",
        "plt.plot(x,y)"
      ],
      "execution_count": 77,
      "outputs": [
        {
          "output_type": "execute_result",
          "data": {
            "text/plain": [
              "[<matplotlib.lines.Line2D at 0x7fccccbca2e8>]"
            ]
          },
          "metadata": {
            "tags": []
          },
          "execution_count": 77
        },
        {
          "output_type": "display_data",
          "data": {
            "image/png": "[encoded data removed]",
            "text/plain": [
              "<Figure size 432x288 with 1 Axes>"
            ]
          },
          "metadata": {
            "tags": [],
            "needs_background": "light"
          }
        }
      ]
    },
    {
      "cell_type": "code",
      "metadata": {
        "id": "j0VutQLGVvpz"
      },
      "source": [
        "## what happens in knn when we have data that is labeled\n",
        "#if its binary we can directly map the feature to be 0 or 1\n",
        "#if its increasing in an order we can map it again\n",
        "#but if it has no order we have to use each label as a feature and then we can have binary output"
      ],
      "execution_count": 78,
      "outputs": []
    },
    {
      "cell_type": "code",
      "metadata": {
        "id": "ZbABrAYXZaa3"
      },
      "source": [
        "#kdtrees and other knn methods "
      ],
      "execution_count": 79,
      "outputs": []
    },
    {
      "cell_type": "code",
      "metadata": {
        "id": "ScWWrFSBZy-l"
      },
      "source": [
        "def knn(x_train,y_train,k,weighted_voting,x_test,y_test):\n",
        "  uniques=np.unique(y_train)\n",
        "  predictions=[]\n",
        "\n",
        "  for sample in x_test:\n",
        "    distances=[]\n",
        "    for x,y in zip(x_train,y_train):\n",
        "      distance=np.linalg.norm(sample-x)\n",
        "      \n",
        "      distances.append((distance,y))\n",
        "    distances=sorted(distances,key=lambda x:x[0])[:k]\n",
        "\n",
        "    if weighted_voting:\n",
        "      weights=[1/i[0] for i in distances]\n",
        "      dict_vote={i:0 for i in uniques}\n",
        "      for i in distances:\n",
        "          dict_vote[i[1]]+=1\n",
        "      out=list(dict_vote.items())\n",
        "      new_out=[]\n",
        "      for i in range(0,len(out)):\n",
        "        new_out.append((out[i][0],out[i][1]*weights[i]))\n",
        "\n",
        "     \n",
        "\n",
        "      predictions.append(sorted(new_out,key=lambda x:x[1],reverse=True)[0][0])\n",
        "\n",
        "    else:\n",
        "      dict_vote={i:0 for i in uniques}\n",
        "      for i in distances:\n",
        "          dict_vote[i[1]]+=1\n",
        "    \n",
        "      predictions.append(sorted(dict_vote.items(),key=lambda x:x[1],reverse=True)[0][0])\n",
        "\n",
        "  return np.array(predictions)\n",
        "  \n",
        "\n",
        "\n"
      ],
      "execution_count": 111,
      "outputs": []
    },
    {
      "cell_type": "code",
      "metadata": {
        "id": "bnIios9XdhO5"
      },
      "source": [
        "with_=np.mean(y_test==knn(X_train,y_train,21,True,X_test,y_test))\n",
        "without_=np.mean(y_test==knn(X_train,y_train,21,False,X_test,y_test))"
      ],
      "execution_count": 124,
      "outputs": []
    },
    {
      "cell_type": "code",
      "metadata": {
        "id": "S9O_mrRhdx4Z",
        "outputId": "3c1b4502-58ad-4e07-be30-59bf41388e38",
        "colab": {
          "base_uri": "https://localhost:8080/",
          "height": 35
        }
      },
      "source": [
        "print(with_,without_)"
      ],
      "execution_count": 125,
      "outputs": [
        {
          "output_type": "stream",
          "text": [
            "0.9035087719298246 0.8947368421052632\n"
          ],
          "name": "stdout"
        }
      ]
    },
    {
      "cell_type": "code",
      "metadata": {
        "id": "zkFELSKqiZ3j"
      },
      "source": [
        ""
      ],
      "execution_count": null,
      "outputs": []
    }
  ]
}