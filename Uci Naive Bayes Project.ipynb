{
 "cells": [
  {
   "cell_type": "code",
   "execution_count": 3,
   "metadata": {},
   "outputs": [],
   "source": [
    "import os \n",
    "import numpy as np\n",
    "import matplotlib.pyplot as plt\n",
    "from nltk.tokenize import  word_tokenize,regexp_tokenize \n",
    "from nltk.corpus import stopwords\n",
    "import string\n",
    "import nltk\n",
    "import sklearn"
   ]
  },
  {
   "cell_type": "code",
   "execution_count": null,
   "metadata": {},
   "outputs": [],
   "source": []
  },
  {
   "cell_type": "code",
   "execution_count": 5,
   "metadata": {},
   "outputs": [
    {
     "data": {
      "text/plain": [
       "['alt.atheism',\n",
       " 'comp.graphics',\n",
       " 'comp.os.ms-windows.misc',\n",
       " 'comp.sys.ibm.pc.hardware',\n",
       " 'comp.sys.mac.hardware',\n",
       " 'comp.windows.x',\n",
       " 'misc.forsale',\n",
       " 'rec.autos',\n",
       " 'rec.motorcycles',\n",
       " 'rec.sport.baseball',\n",
       " 'rec.sport.hockey',\n",
       " 'sci.crypt',\n",
       " 'sci.electronics',\n",
       " 'sci.med',\n",
       " 'sci.space',\n",
       " 'soc.religion.christian',\n",
       " 'talk.politics.guns',\n",
       " 'talk.politics.mideast',\n",
       " 'talk.politics.misc',\n",
       " 'talk.religion.misc']"
      ]
     },
     "execution_count": 5,
     "metadata": {},
     "output_type": "execute_result"
    }
   ],
   "source": [
    "all_files=os.listdir(\"C:\\\\Users\\\\Admin\\\\Untitled Folder 26\\\\Untitled Folder\\\\nbProject\\\\20_newsgroups\")\n",
    "y=all_files  #saving all labels\n",
    "\n",
    "y"
   ]
  },
  {
   "cell_type": "code",
   "execution_count": null,
   "metadata": {},
   "outputs": [],
   "source": [
    "\n",
    "    "
   ]
  },
  {
   "cell_type": "code",
   "execution_count": 35,
   "metadata": {
    "scrolled": true
   },
   "outputs": [],
   "source": [
    "d={}\n",
    "\n",
    "for folders in os.listdir('C:\\\\Users\\\\Admin\\\\Untitled Folder 26\\\\Untitled Folder\\\\nbProject\\\\20_newsgroups'):\n",
    "    d[folders]=[]\n",
    "    \n",
    "    subpath=os.path.join('C:\\\\Users\\\\Admin\\\\Untitled Folder 26\\\\Untitled Folder\\\\nbProject\\\\20_newsgroups',str(folders))\n",
    "    for files in os.listdir(subpath):\n",
    "        file=open(os.path.join(subpath,files),'r')\n",
    "        d[folders].append(file.read())\n",
    "        \n",
    "\n",
    "        "
   ]
  },
  {
   "cell_type": "code",
   "execution_count": 15,
   "metadata": {
    "scrolled": false
   },
   "outputs": [
    {
     "data": {
      "text/plain": [
       "1000"
      ]
     },
     "execution_count": 15,
     "metadata": {},
     "output_type": "execute_result"
    }
   ],
   "source": [
    "len(d[y[1]])"
   ]
  },
  {
   "cell_type": "code",
   "execution_count": 36,
   "metadata": {},
   "outputs": [
    {
     "data": {
      "text/plain": [
       "390170"
      ]
     },
     "execution_count": 36,
     "metadata": {},
     "output_type": "execute_result"
    }
   ],
   "source": [
    "words=stopwords.words('english')\n",
    "words.extend(['subject:','from:', 'date:', 'newsgroups:', 'message-id:', 'lines:', 'path:', 'organization:', \n",
    "            'would', 'writes:', 'references:', 'article', 'sender:', 'nntp-posting-host:', 'people', \n",
    "            'university', 'think', 'xref:', 'cantaloupe.srv.cs.cmu.edu', 'could', 'distribution:', 'first', \n",
    "            'anyone','world', 'really', 'since', 'right', 'believe', 'still', \n",
    "            \"max>'ax>'ax>'ax>'ax>'ax>'ax>'ax>'ax>'ax>'ax>'ax>'ax>'ax>'ax>'\"])\n",
    "\n",
    "\n",
    "v={} #vocab dictionary\n",
    "\n",
    "for folders in y:\n",
    "    for data in d[folders]:\n",
    "        split_data=data.split()\n",
    "        for w in split_data:\n",
    "            if w.lower() not in words and len(w.lower())>=5:\n",
    "                if w.lower() not in v:\n",
    "                    v[w.lower()]=1\n",
    "                else:\n",
    "                    v[w.lower()]+=1\n",
    "len(v)"
   ]
  },
  {
   "cell_type": "code",
   "execution_count": 49,
   "metadata": {
    "scrolled": false
   },
   "outputs": [
    {
     "data": {
      "image/png": "[encoded data removed]",
      "text/plain": [
       "<Figure size 432x288 with 1 Axes>"
      ]
     },
     "metadata": {
      "needs_background": "light"
     },
     "output_type": "display_data"
    }
   ],
   "source": [
    "frequency=[]\n",
    "for i in sorted(v.items(),key=lambda x:x[1],reverse=True):\n",
    "    frequency.append(np.log(i[1]))\n",
    "    \n",
    "plt.plot(frequency)\n",
    "plt.xscale('log')"
   ]
  },
  {
   "cell_type": "code",
   "execution_count": 62,
   "metadata": {},
   "outputs": [],
   "source": [
    "verb_vector=sorted(v.items(),key=lambda x:x[1],reverse=True)[0:1000] #im using 1000 words as verb vector \n",
    "verb_vector_list=[i[0] for i in verb_vector]"
   ]
  },
  {
   "cell_type": "code",
   "execution_count": 69,
   "metadata": {},
   "outputs": [],
   "source": [
    "def create_data(verb_vector_list):\n",
    "    X=[]\n",
    "    Y=[]\n",
    "    for folders in os.listdir('C:\\\\Users\\\\Admin\\\\Untitled Folder 26\\\\Untitled Folder\\\\nbProject\\\\20_newsgroups'):\n",
    "        subpath=os.path.join('C:\\\\Users\\\\Admin\\\\Untitled Folder 26\\\\Untitled Folder\\\\nbProject\\\\20_newsgroups',str(folders))\n",
    "        for files in os.listdir(subpath):\n",
    "            file=open(os.path.join(subpath,files),'r')\n",
    "            x=[0 for i in range(len(verb_vector_list))]\n",
    "            y=folders\n",
    "            words=file.read().split()\n",
    "            for i in range(0,len(verb_vector_list)):\n",
    "                if verb_vector_list[i] in words:\n",
    "                    x[i]+=1\n",
    "            X.append(x)\n",
    "            Y.append(y)\n",
    "    return np.array(X),np.array(Y)\n",
    "            \n",
    "        "
   ]
  },
  {
   "cell_type": "code",
   "execution_count": 70,
   "metadata": {},
   "outputs": [],
   "source": [
    "X_train,y_train=create_data(verb_vector_list)"
   ]
  },
  {
   "cell_type": "code",
   "execution_count": 87,
   "metadata": {},
   "outputs": [],
   "source": [
    "X_train.shape,y_train.shape\n",
    "X_train,X_test,y_train,y_test=sklearn.model_selection.train_test_split(X_train,y_train)"
   ]
  },
  {
   "cell_type": "code",
   "execution_count": 88,
   "metadata": {},
   "outputs": [],
   "source": [
    "from sklearn.naive_bayes import MultinomialNB"
   ]
  },
  {
   "cell_type": "code",
   "execution_count": 89,
   "metadata": {},
   "outputs": [
    {
     "data": {
      "text/plain": [
       "MultinomialNB()"
      ]
     },
     "execution_count": 89,
     "metadata": {},
     "output_type": "execute_result"
    }
   ],
   "source": [
    "clf=MultinomialNB()\n",
    "clf.fit(X_train,y_train)"
   ]
  },
  {
   "cell_type": "markdown",
   "metadata": {},
   "source": [
    "## accuracy of sklearn model"
   ]
  },
  {
   "cell_type": "code",
   "execution_count": 93,
   "metadata": {},
   "outputs": [
    {
     "data": {
      "text/plain": [
       "0.8332"
      ]
     },
     "execution_count": 93,
     "metadata": {},
     "output_type": "execute_result"
    }
   ],
   "source": [
    "clf.score(X_test,y_test)"
   ]
  },
  {
   "cell_type": "markdown",
   "metadata": {},
   "source": [
    "## Our Model"
   ]
  },
  {
   "cell_type": "code",
   "execution_count": 132,
   "metadata": {},
   "outputs": [],
   "source": [
    "def fit(X_train,y_train):\n",
    "    nb_dict={}\n",
    "    nb_dict['total_dict']=len(y_train)\n",
    "    for c in np.unique(y_train):\n",
    "        nb_dict[c]={}\n",
    "        filter_=y_train==c\n",
    "        x=X_train[filter_] #each and every file with a single class\n",
    "        y=y_train[filter_]\n",
    "        total_words=0\n",
    "        nb_dict[c]['class_count']=len(y)\n",
    "        for f in range(0,len(X_train[0])):\n",
    "            nb_dict[c][f]=x[:,f].sum()\n",
    "            total_words+=x[:,f].sum()\n",
    "            \n",
    "        nb_dict[c]['total_words_in_file']=total_words          \n",
    "    return nb_dict"
   ]
  },
  {
   "cell_type": "code",
   "execution_count": 133,
   "metadata": {},
   "outputs": [],
   "source": [
    "d=fit(X_train,y_train)"
   ]
  },
  {
   "cell_type": "code",
   "execution_count": null,
   "metadata": {},
   "outputs": [],
   "source": [
    "def predict_one_file(X_test,nb_dict):\n",
    "    best_class=None\n",
    "    best_proba=-99999\n",
    "    \n",
    "    for c in list(nb_dict.keys()):\n",
    "        if c=='total_dict':\n",
    "            continue\n",
    "        output=np.log(nb_dict[c]['class_count'])-np.log(nb_dict['total_dict'])\n",
    "        \n",
    "        feature_length=len(X_test)\n",
    "        \n",
    "        for f in range(0,feature_length):\n",
    "            if f==1 or f==-1:\n",
    "                continue\n",
    "            count_word_in_file=nb_dict[c][f]\n",
    "            prob=np.log(count_word_in_file+1)-np.log((nb_dict[c][f]+feature_length))\n",
    "            \n",
    "            if X_test[f]>0:\n",
    "                output=output+prob\n",
    "            \n",
    "        if output>best_proba:\n",
    "            best_proba=output\n",
    "            best_class=c\n",
    "            \n",
    "            \n",
    "    return best_class,best_proba\n",
    "            \n",
    "        \n",
    "        \n",
    "    "
   ]
  },
  {
   "cell_type": "code",
   "execution_count": 204,
   "metadata": {},
   "outputs": [],
   "source": [
    "predictions=[]\n",
    "for i in range(0,len(X_test)):\n",
    "    prediction=predict_one_file(X_test[i],d)[0]\n",
    "    predictions.append(prediction)"
   ]
  },
  {
   "cell_type": "code",
   "execution_count": 205,
   "metadata": {
    "scrolled": true
   },
   "outputs": [
    {
     "data": {
      "text/plain": [
       "0.6794"
      ]
     },
     "execution_count": 205,
     "metadata": {},
     "output_type": "execute_result"
    }
   ],
   "source": [
    "np.mean(y_test==np.array(predictions))"
   ]
  },
  {
   "cell_type": "code",
   "execution_count": null,
   "metadata": {},
   "outputs": [],
   "source": []
  },
  {
   "cell_type": "code",
   "execution_count": null,
   "metadata": {
    "scrolled": false
   },
   "outputs": [],
   "source": []
  },
  {
   "cell_type": "code",
   "execution_count": null,
   "metadata": {},
   "outputs": [],
   "source": []
  }
 ],
 "metadata": {
  "kernelspec": {
   "display_name": "Python 3",
   "language": "python",
   "name": "python3"
  },
  "language_info": {
   "codemirror_mode": {
    "name": "ipython",
    "version": 3
   },
   "file_extension": ".py",
   "mimetype": "text/x-python",
   "name": "python",
   "nbconvert_exporter": "python",
   "pygments_lexer": "ipython3",
   "version": "3.7.7"
  }
 },
 "nbformat": 4,
 "nbformat_minor": 4
}
